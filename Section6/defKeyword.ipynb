{
 "cells": [
  {
   "cell_type": "code",
   "execution_count": 4,
   "metadata": {},
   "outputs": [],
   "source": [
    "# def essentially stands for definition of fucntion and indicates to Python that it is a function\n",
    "# snake case is used for name of function\n",
    "# parenthesis after the function name. Can be used to pass in arguments/parameters into the function\n",
    "# The colon indicates an upcoming indented block and everything that is indented is \"inside\" the function\n",
    "# the triple quotes are for an optional docstring to explain the function\n",
    "# indented code is insiude the function. In this case it is a print statement\n",
    "\n",
    "# def name_of_function():\n",
    "#   \"'\n",
    "#   Docstring explains function and is optional\n",
    "#   \"'\n",
    "#   print(Hello)"
   ]
  },
  {
   "cell_type": "code",
   "execution_count": 6,
   "metadata": {},
   "outputs": [],
   "source": [
    "# to call the function, you do the following:\n",
    "# name_of_function()\n",
    "# In this case, the output would be the string \"Hello\"\n",
    "# >>Hello"
   ]
  },
  {
   "cell_type": "code",
   "execution_count": 5,
   "metadata": {},
   "outputs": [],
   "source": [
    "# def name_of_function(name):\n",
    "#   \"'\n",
    "#   Docstring explains function and is optional\n",
    "#   \"'\n",
    "#   print(\"Hello\" + name)\n",
    "\n",
    "# name_of_function(\"Jose\")\n",
    "# >>Hello Jose"
   ]
  },
  {
   "cell_type": "code",
   "execution_count": 7,
   "metadata": {},
   "outputs": [],
   "source": [
    "# The return keyword is used to send back the result of the function\n",
    "# return allows you to assign the output of the function to a new variable"
   ]
  },
  {
   "cell_type": "code",
   "execution_count": 8,
   "metadata": {},
   "outputs": [],
   "source": [
    "def add_function(num1,num2):\n",
    "    return num1+num2"
   ]
  },
  {
   "cell_type": "code",
   "execution_count": 9,
   "metadata": {},
   "outputs": [],
   "source": [
    "result = add_function(1,2)"
   ]
  },
  {
   "cell_type": "code",
   "execution_count": 10,
   "metadata": {},
   "outputs": [
    {
     "data": {
      "text/plain": [
       "3"
      ]
     },
     "execution_count": 10,
     "metadata": {},
     "output_type": "execute_result"
    }
   ],
   "source": [
    "result"
   ]
  }
 ],
 "metadata": {
  "kernelspec": {
   "display_name": "Python 3.9.12 ('base')",
   "language": "python",
   "name": "python3"
  },
  "language_info": {
   "codemirror_mode": {
    "name": "ipython",
    "version": 3
   },
   "file_extension": ".py",
   "mimetype": "text/x-python",
   "name": "python",
   "nbconvert_exporter": "python",
   "pygments_lexer": "ipython3",
   "version": "3.9.12"
  },
  "orig_nbformat": 4,
  "vscode": {
   "interpreter": {
    "hash": "2c17cdae881039898e019dde816ef025ab5528b4115dbe62b08e3ff91b305481"
   }
  }
 },
 "nbformat": 4,
 "nbformat_minor": 2
}
